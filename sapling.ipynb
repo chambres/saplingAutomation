{
 "cells": [
  {
   "cell_type": "code",
   "execution_count": null,
   "metadata": {},
   "outputs": [],
   "source": [
    "import time\n",
    "import random\n",
    "import selenium\n",
    "from selenium import webdriver\n",
    "from selenium.webdriver.common.keys import Keys\n",
    "from selenium.webdriver.common.by import By\n",
    "from selenium.webdriver.support.ui import WebDriverWait\n",
    "from selenium.webdriver.support import expected_conditions as EC\n",
    "import pickle\n",
    "from selenium.common.exceptions import NoSuchElementException\n",
    "sleep_time = .5\n",
    "\n",
    "USERNAME = \"\"\n",
    "PASSWORD = \"\""
   ]
  },
  {
   "cell_type": "code",
   "execution_count": null,
   "metadata": {},
   "outputs": [],
   "source": [
    "driver = webdriver.Chrome()"
   ]
  },
  {
   "cell_type": "code",
   "execution_count": null,
   "metadata": {},
   "outputs": [],
   "source": [
    "def switch_to_first_tab():\n",
    "    driver.switch_to.window(driver.window_handles[0])"
   ]
  },
  {
   "cell_type": "code",
   "execution_count": null,
   "metadata": {},
   "outputs": [],
   "source": [
    "driver.get(\"https://katyisd.instructure.com/\")\n",
    "\n",
    "driver.find_elements(By.CLASS_NAME, \"ic-Input.text\")[0].send_keys(USERNAME)\n",
    "driver.find_elements(By.CLASS_NAME, \"ic-Input.text\")[1].send_keys(PASSWORD)\n",
    "\n",
    "driver.find_element(By.CLASS_NAME, \"Button.Button--login\").click()"
   ]
  },
  {
   "cell_type": "code",
   "execution_count": null,
   "metadata": {},
   "outputs": [],
   "source": [
    "try:\n",
    "    element = WebDriverWait(driver, 300).until(\n",
    "        EC.presence_of_element_located((By.ID, \"dashboard\"))\n",
    "    )\n",
    "finally:\n",
    "    driver.get(\"https://katyisd.instructure.com/courses/505117/external_tools/11012\")"
   ]
  },
  {
   "cell_type": "code",
   "execution_count": null,
   "metadata": {},
   "outputs": [],
   "source": [
    "driver.switch_to.window(driver.window_handles[0])"
   ]
  },
  {
   "cell_type": "code",
   "execution_count": null,
   "metadata": {},
   "outputs": [],
   "source": [
    "driver.switch_to.default_content()"
   ]
  },
  {
   "cell_type": "code",
   "execution_count": null,
   "metadata": {},
   "outputs": [],
   "source": [
    "driver.switch_to.frame(driver.find_elements(By.TAG_NAME, \"iframe\")[1])"
   ]
  },
  {
   "cell_type": "code",
   "execution_count": null,
   "metadata": {},
   "outputs": [],
   "source": [
    "driver.find_elements(By.CLASS_NAME, \"tool-link.fn-tool-link\")[0].click()\n"
   ]
  },
  {
   "cell_type": "code",
   "execution_count": null,
   "metadata": {},
   "outputs": [],
   "source": [
    "input(\"choose assignment and then close all tabs\\n> \")\n",
    "\n",
    "driver.switch_to.window(driver.window_handles[0])\n",
    "driver.switch_to.default_content()\n",
    "driver.switch_to.frame(driver.find_elements(By.TAG_NAME, \"iframe\")[0])"
   ]
  },
  {
   "cell_type": "code",
   "execution_count": null,
   "metadata": {},
   "outputs": [],
   "source": [
    "while True:\n",
    "    answer_list = driver.find_elements(By.CLASS_NAME, \"multichoice-column1\")\n",
    "    print(\"new question\")\n",
    "\n",
    "    while True:\n",
    "        i = random.randint(0, len(answer_list)-1)\n",
    "        answer_list[i].click()\n",
    "        driver.find_element(By.ID, \"button-check\").click()\n",
    "\n",
    "        WebDriverWait(driver,1000).until(\n",
    "            lambda driver: driver.find_elements(By.CLASS_NAME, \"modal-button.cdl-button.primary\") or driver.find_elements(By.ID,\"feedback-title\"))\n",
    "\n",
    "        try:\n",
    "            driver.find_element(By.CLASS_NAME, \"modal-title-container\")\n",
    "            driver.find_element(By.CLASS_NAME, \"modal-button.cdl-button.primary\").click()\n",
    "            print(\"answered correctly!\")\n",
    "            break\n",
    "        except NoSuchElementException:\n",
    "            print(i)\n",
    "            print(answer_list)\n",
    "            answer_list.pop(i)\n",
    "            driver.find_element(By.ID, \"button-check\").click()\n",
    "            WebDriverWait(driver,1000).until(\n",
    "                EC.text_to_be_present_in_element((By.XPATH, \"\"\"//*[@id=\"tool-hint\"]/div/button/span[2]\"\"\"), \"Hint\"))\n",
    "            print(\"answered wrong! trying again\")"
   ]
  },
  {
   "cell_type": "code",
   "execution_count": null,
   "metadata": {},
   "outputs": [],
   "source": [
    "import random\n",
    "answer_list = driver.find_elements(By.CLASS_NAME, \"multichoice-column1\")\n",
    "\n",
    "i = random.randint(0, len(answer_list)-1)\n",
    "answer_list[i].click()"
   ]
  },
  {
   "cell_type": "code",
   "execution_count": null,
   "metadata": {},
   "outputs": [],
   "source": [
    "driver.find_element(By.ID, \"button-check\").click()"
   ]
  },
  {
   "cell_type": "code",
   "execution_count": null,
   "metadata": {},
   "outputs": [],
   "source": [
    "try:\n",
    "    driver.find_element(By.CLASS_NAME, \"modal-title-container\")\n",
    "    driver.find_element(By.CLASS_NAME, \"modal-button.cdl-button.primary\").click()\n",
    "    print(\"answered correctly!\")\n",
    "except NoSuchElementException:\n",
    "    print(i)\n",
    "    print(answer_list)\n",
    "    answer_list.pop(i)\n",
    "    driver.find_element(By.ID, \"button-check\").click()\n",
    "    print(\"answered wrong! trying again\")\n",
    "    "
   ]
  },
  {
   "cell_type": "code",
   "execution_count": null,
   "metadata": {},
   "outputs": [],
   "source": [
    "try:\n",
    "    while True:\n",
    "        import random\n",
    "        answer_list = driver.find_elements(By.CLASS_NAME, \"multichoice-column1\")\n",
    "\n",
    "\n",
    "        while True:\n",
    "            \n",
    "            i = random.randint(0, len(answer_list)-1)\n",
    "            answer_list[i].click()\n",
    "            \n",
    "            driver.find_element(By.ID, \"button-check\").click()\n",
    "            try:\n",
    "                driver.find_element(By.CLASS_NAME, \"modal-title-container\")\n",
    "                driver.find_element(By.CLASS_NAME, \"modal-button.cdl-button.primary\").click()\n",
    "                print(\"answered correctly!\")\n",
    "                break\n",
    "            except NoSuchElementException:\n",
    "                print(i)\n",
    "                print(answer_list)\n",
    "                answer_list.pop(i)\n",
    "                driver.find_element(By.ID, \"button-check\").click()\n",
    "                print(\"answered wrong! trying again\")\n",
    "        \n",
    "except KeyboardInterrupt:\n",
    "    print('interrupted!')\n",
    "\n",
    "\n"
   ]
  },
  {
   "cell_type": "code",
   "execution_count": null,
   "metadata": {},
   "outputs": [],
   "source": [
    "import random\n",
    "answer_list = driver.find_elements(By.CLASS_NAME, \"multichoice-column1\")"
   ]
  },
  {
   "cell_type": "code",
   "execution_count": null,
   "metadata": {},
   "outputs": [],
   "source": [
    "import random\n",
    "answer_list = driver.find_elements(By.CLASS_NAME, \"multichoice-column1\")\n",
    "\n",
    "i = random.randint(0, len(answer_list)-1)\n",
    "answer_list[i].click()\n",
    "driver.find_element(By.ID, \"button-check\").click()\n",
    "\n",
    "WebDriverWait(driver,1000).until(\n",
    "    lambda driver: driver.find_elements(By.CLASS_NAME, \"modal-button.cdl-button.primary\") or driver.find_elements(By.ID,\"feedback-title\"))\n",
    "\n",
    "try:\n",
    "    driver.find_element(By.CLASS_NAME, \"modal-title-container\")\n",
    "    driver.find_element(By.CLASS_NAME, \"modal-button.cdl-button.primary\").click()\n",
    "    print(\"answered correctly!\")\n",
    "except NoSuchElementException:\n",
    "    print(i)\n",
    "    print(answer_list)\n",
    "    answer_list.pop(i)\n",
    "    driver.find_element(By.ID, \"button-check\").click()\n",
    "    print(\"answered wrong! trying again\")\n",
    "\n",
    "\n"
   ]
  },
  {
   "cell_type": "markdown",
   "metadata": {},
   "source": []
  },
  {
   "cell_type": "code",
   "execution_count": null,
   "metadata": {},
   "outputs": [],
   "source": []
  },
  {
   "cell_type": "code",
   "execution_count": null,
   "metadata": {},
   "outputs": [],
   "source": []
  }
 ],
 "metadata": {
  "interpreter": {
   "hash": "1d3e762bfd9c3a6dd6c5695f738eb16948cd7fcbac9eec66b1e12976edfcee91"
  },
  "kernelspec": {
   "display_name": "Python 3.10.0 64-bit",
   "language": "python",
   "name": "python3"
  },
  "language_info": {
   "codemirror_mode": {
    "name": "ipython",
    "version": 3
   },
   "file_extension": ".py",
   "mimetype": "text/x-python",
   "name": "python",
   "nbconvert_exporter": "python",
   "pygments_lexer": "ipython3",
   "version": "3.10.0"
  },
  "orig_nbformat": 4
 },
 "nbformat": 4,
 "nbformat_minor": 2
}
