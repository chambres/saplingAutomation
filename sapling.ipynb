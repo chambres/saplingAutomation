{
 "cells": [
  {
   "cell_type": "code",
   "execution_count": 2,
   "metadata": {},
   "outputs": [],
   "source": [
    "import time\n",
    "import random\n",
    "import selenium\n",
    "from selenium import webdriver\n",
    "from selenium.webdriver.common.keys import Keys\n",
    "from selenium.webdriver.common.by import By\n",
    "from selenium.webdriver.support.ui import WebDriverWait\n",
    "from selenium.webdriver.support import expected_conditions as EC\n",
    "import pickle\n",
    "from selenium.common.exceptions import NoSuchElementException\n",
    "sleep_time = .5\n",
    "\n",
    "USERNAME = \"K1331528\"\n",
    "PASSWORD = \"$Ichakura2022\""
   ]
  },
  {
   "cell_type": "code",
   "execution_count": 3,
   "metadata": {},
   "outputs": [],
   "source": [
    "driver = webdriver.Chrome()"
   ]
  },
  {
   "cell_type": "code",
   "execution_count": 4,
   "metadata": {},
   "outputs": [],
   "source": [
    "def switch_to_first_tab():\n",
    "    driver.switch_to.window(driver.window_handles[0])"
   ]
  },
  {
   "cell_type": "code",
   "execution_count": 5,
   "metadata": {},
   "outputs": [],
   "source": [
    "driver.get(\"https://katyisd.instructure.com/\")\n",
    "\n",
    "driver.find_elements(By.CLASS_NAME, \"ic-Input.text\")[0].send_keys(USERNAME)\n",
    "driver.find_elements(By.CLASS_NAME, \"ic-Input.text\")[1].send_keys(PASSWORD)\n",
    "\n",
    "driver.find_element(By.CLASS_NAME, \"Button.Button--login\").click()"
   ]
  },
  {
   "cell_type": "code",
   "execution_count": 6,
   "metadata": {},
   "outputs": [],
   "source": [
    "try:\n",
    "    element = WebDriverWait(driver, 300).until(\n",
    "        EC.presence_of_element_located((By.ID, \"dashboard\"))\n",
    "    )\n",
    "finally:\n",
    "    driver.get(\"https://katyisd.instructure.com/courses/505117/external_tools/11012\")"
   ]
  },
  {
   "cell_type": "code",
   "execution_count": 11,
   "metadata": {},
   "outputs": [],
   "source": [
    "driver.switch_to.window(driver.window_handles[0])"
   ]
  },
  {
   "cell_type": "code",
   "execution_count": 21,
   "metadata": {},
   "outputs": [],
   "source": [
    "driver.switch_to.default_content()"
   ]
  },
  {
   "cell_type": "code",
   "execution_count": 12,
   "metadata": {},
   "outputs": [],
   "source": [
    "driver.switch_to.frame(driver.find_elements(By.TAG_NAME, \"iframe\")[1])"
   ]
  },
  {
   "cell_type": "code",
   "execution_count": 13,
   "metadata": {},
   "outputs": [],
   "source": [
    "driver.find_elements(By.CLASS_NAME, \"tool-link.fn-tool-link\")[0].click()\n"
   ]
  },
  {
   "cell_type": "code",
   "execution_count": 25,
   "metadata": {},
   "outputs": [],
   "source": [
    "input(\"choose assignment and then close all tabs\\n> \")\n",
    "\n",
    "driver.switch_to.window(driver.window_handles[0])\n",
    "driver.switch_to.default_content()\n",
    "driver.switch_to.frame(driver.find_elements(By.TAG_NAME, \"iframe\")[0])"
   ]
  },
  {
   "cell_type": "code",
   "execution_count": 26,
   "metadata": {},
   "outputs": [
    {
     "name": "stdout",
     "output_type": "stream",
     "text": [
      "3\n",
      "[<selenium.webdriver.remote.webelement.WebElement (session=\"b934571c0a1a0b3b51815b4b3512fe69\", element=\"a680df30-0bad-40f3-801f-10d7ed61cc41\")>, <selenium.webdriver.remote.webelement.WebElement (session=\"b934571c0a1a0b3b51815b4b3512fe69\", element=\"a0ea3918-0836-445e-9815-c77f1f445f0a\")>, <selenium.webdriver.remote.webelement.WebElement (session=\"b934571c0a1a0b3b51815b4b3512fe69\", element=\"03a3d2bf-0b08-4f80-8fd6-50222081abcc\")>, <selenium.webdriver.remote.webelement.WebElement (session=\"b934571c0a1a0b3b51815b4b3512fe69\", element=\"6c7e3c1b-b54b-48e8-a67f-e50dffe845b2\")>, <selenium.webdriver.remote.webelement.WebElement (session=\"b934571c0a1a0b3b51815b4b3512fe69\", element=\"4ffd9d93-f9b1-4148-80d8-3a763ce6d899\")>]\n",
      "answered wrong! trying again\n",
      "2\n",
      "[<selenium.webdriver.remote.webelement.WebElement (session=\"b934571c0a1a0b3b51815b4b3512fe69\", element=\"a680df30-0bad-40f3-801f-10d7ed61cc41\")>, <selenium.webdriver.remote.webelement.WebElement (session=\"b934571c0a1a0b3b51815b4b3512fe69\", element=\"a0ea3918-0836-445e-9815-c77f1f445f0a\")>, <selenium.webdriver.remote.webelement.WebElement (session=\"b934571c0a1a0b3b51815b4b3512fe69\", element=\"03a3d2bf-0b08-4f80-8fd6-50222081abcc\")>, <selenium.webdriver.remote.webelement.WebElement (session=\"b934571c0a1a0b3b51815b4b3512fe69\", element=\"4ffd9d93-f9b1-4148-80d8-3a763ce6d899\")>]\n",
      "answered wrong! trying again\n",
      "answered correctly!\n",
      "0\n",
      "[<selenium.webdriver.remote.webelement.WebElement (session=\"b934571c0a1a0b3b51815b4b3512fe69\", element=\"38f88e9b-a908-402a-b988-a4857fe47bce\")>, <selenium.webdriver.remote.webelement.WebElement (session=\"b934571c0a1a0b3b51815b4b3512fe69\", element=\"df941e38-0398-4f4c-9bec-9556762de130\")>, <selenium.webdriver.remote.webelement.WebElement (session=\"b934571c0a1a0b3b51815b4b3512fe69\", element=\"576a1278-0bec-4a0f-b59d-454ce55d5096\")>, <selenium.webdriver.remote.webelement.WebElement (session=\"b934571c0a1a0b3b51815b4b3512fe69\", element=\"2dcd69a1-e1dc-4646-bc66-1958b736cb7c\")>, <selenium.webdriver.remote.webelement.WebElement (session=\"b934571c0a1a0b3b51815b4b3512fe69\", element=\"b5e73fcb-10db-43e7-ab66-ad0f7d54cf63\")>]\n",
      "answered wrong! trying again\n",
      "1\n",
      "[<selenium.webdriver.remote.webelement.WebElement (session=\"b934571c0a1a0b3b51815b4b3512fe69\", element=\"df941e38-0398-4f4c-9bec-9556762de130\")>, <selenium.webdriver.remote.webelement.WebElement (session=\"b934571c0a1a0b3b51815b4b3512fe69\", element=\"576a1278-0bec-4a0f-b59d-454ce55d5096\")>, <selenium.webdriver.remote.webelement.WebElement (session=\"b934571c0a1a0b3b51815b4b3512fe69\", element=\"2dcd69a1-e1dc-4646-bc66-1958b736cb7c\")>, <selenium.webdriver.remote.webelement.WebElement (session=\"b934571c0a1a0b3b51815b4b3512fe69\", element=\"b5e73fcb-10db-43e7-ab66-ad0f7d54cf63\")>]\n",
      "answered wrong! trying again\n",
      "1\n",
      "[<selenium.webdriver.remote.webelement.WebElement (session=\"b934571c0a1a0b3b51815b4b3512fe69\", element=\"df941e38-0398-4f4c-9bec-9556762de130\")>, <selenium.webdriver.remote.webelement.WebElement (session=\"b934571c0a1a0b3b51815b4b3512fe69\", element=\"2dcd69a1-e1dc-4646-bc66-1958b736cb7c\")>, <selenium.webdriver.remote.webelement.WebElement (session=\"b934571c0a1a0b3b51815b4b3512fe69\", element=\"b5e73fcb-10db-43e7-ab66-ad0f7d54cf63\")>]\n",
      "answered wrong! trying again\n",
      "answered correctly!\n",
      "2\n",
      "[<selenium.webdriver.remote.webelement.WebElement (session=\"b934571c0a1a0b3b51815b4b3512fe69\", element=\"789d768d-1033-481f-af30-57c19edc5272\")>, <selenium.webdriver.remote.webelement.WebElement (session=\"b934571c0a1a0b3b51815b4b3512fe69\", element=\"6033ce6c-ad7e-4d7b-bee5-ec31489d5609\")>, <selenium.webdriver.remote.webelement.WebElement (session=\"b934571c0a1a0b3b51815b4b3512fe69\", element=\"7073ca0e-ad59-4877-957d-e1b341dec047\")>, <selenium.webdriver.remote.webelement.WebElement (session=\"b934571c0a1a0b3b51815b4b3512fe69\", element=\"4e8f2992-11ad-4f20-aede-a70c712b7a28\")>, <selenium.webdriver.remote.webelement.WebElement (session=\"b934571c0a1a0b3b51815b4b3512fe69\", element=\"4299bee2-dcab-4513-b5fb-f50c23925fc4\")>]\n",
      "answered wrong! trying again\n",
      "1\n",
      "[<selenium.webdriver.remote.webelement.WebElement (session=\"b934571c0a1a0b3b51815b4b3512fe69\", element=\"789d768d-1033-481f-af30-57c19edc5272\")>, <selenium.webdriver.remote.webelement.WebElement (session=\"b934571c0a1a0b3b51815b4b3512fe69\", element=\"6033ce6c-ad7e-4d7b-bee5-ec31489d5609\")>, <selenium.webdriver.remote.webelement.WebElement (session=\"b934571c0a1a0b3b51815b4b3512fe69\", element=\"4e8f2992-11ad-4f20-aede-a70c712b7a28\")>, <selenium.webdriver.remote.webelement.WebElement (session=\"b934571c0a1a0b3b51815b4b3512fe69\", element=\"4299bee2-dcab-4513-b5fb-f50c23925fc4\")>]\n",
      "answered wrong! trying again\n",
      "2\n",
      "[<selenium.webdriver.remote.webelement.WebElement (session=\"b934571c0a1a0b3b51815b4b3512fe69\", element=\"789d768d-1033-481f-af30-57c19edc5272\")>, <selenium.webdriver.remote.webelement.WebElement (session=\"b934571c0a1a0b3b51815b4b3512fe69\", element=\"4e8f2992-11ad-4f20-aede-a70c712b7a28\")>, <selenium.webdriver.remote.webelement.WebElement (session=\"b934571c0a1a0b3b51815b4b3512fe69\", element=\"4299bee2-dcab-4513-b5fb-f50c23925fc4\")>]\n",
      "answered wrong! trying again\n",
      "answered correctly!\n",
      "3\n",
      "[<selenium.webdriver.remote.webelement.WebElement (session=\"b934571c0a1a0b3b51815b4b3512fe69\", element=\"f816111b-2169-4741-8782-378565b179dc\")>, <selenium.webdriver.remote.webelement.WebElement (session=\"b934571c0a1a0b3b51815b4b3512fe69\", element=\"d69ceb71-4ab3-483d-a3f3-2e12b7e69ee0\")>, <selenium.webdriver.remote.webelement.WebElement (session=\"b934571c0a1a0b3b51815b4b3512fe69\", element=\"7ae9c3e5-aea5-4eee-b678-fe8da529df74\")>, <selenium.webdriver.remote.webelement.WebElement (session=\"b934571c0a1a0b3b51815b4b3512fe69\", element=\"d2b6dfbb-e863-4005-a332-ae4c7a2c8976\")>, <selenium.webdriver.remote.webelement.WebElement (session=\"b934571c0a1a0b3b51815b4b3512fe69\", element=\"3aeb87f9-9bed-4c5a-b079-12a0739372ac\")>]\n",
      "answered wrong! trying again\n",
      "0\n",
      "[<selenium.webdriver.remote.webelement.WebElement (session=\"b934571c0a1a0b3b51815b4b3512fe69\", element=\"f816111b-2169-4741-8782-378565b179dc\")>, <selenium.webdriver.remote.webelement.WebElement (session=\"b934571c0a1a0b3b51815b4b3512fe69\", element=\"d69ceb71-4ab3-483d-a3f3-2e12b7e69ee0\")>, <selenium.webdriver.remote.webelement.WebElement (session=\"b934571c0a1a0b3b51815b4b3512fe69\", element=\"7ae9c3e5-aea5-4eee-b678-fe8da529df74\")>, <selenium.webdriver.remote.webelement.WebElement (session=\"b934571c0a1a0b3b51815b4b3512fe69\", element=\"3aeb87f9-9bed-4c5a-b079-12a0739372ac\")>]\n",
      "answered wrong! trying again\n",
      "0\n",
      "[<selenium.webdriver.remote.webelement.WebElement (session=\"b934571c0a1a0b3b51815b4b3512fe69\", element=\"d69ceb71-4ab3-483d-a3f3-2e12b7e69ee0\")>, <selenium.webdriver.remote.webelement.WebElement (session=\"b934571c0a1a0b3b51815b4b3512fe69\", element=\"7ae9c3e5-aea5-4eee-b678-fe8da529df74\")>, <selenium.webdriver.remote.webelement.WebElement (session=\"b934571c0a1a0b3b51815b4b3512fe69\", element=\"3aeb87f9-9bed-4c5a-b079-12a0739372ac\")>]\n",
      "answered wrong! trying again\n",
      "0\n",
      "[<selenium.webdriver.remote.webelement.WebElement (session=\"b934571c0a1a0b3b51815b4b3512fe69\", element=\"7ae9c3e5-aea5-4eee-b678-fe8da529df74\")>, <selenium.webdriver.remote.webelement.WebElement (session=\"b934571c0a1a0b3b51815b4b3512fe69\", element=\"3aeb87f9-9bed-4c5a-b079-12a0739372ac\")>]\n",
      "answered wrong! trying again\n",
      "answered correctly!\n",
      "4\n",
      "[<selenium.webdriver.remote.webelement.WebElement (session=\"b934571c0a1a0b3b51815b4b3512fe69\", element=\"11605214-d383-4363-bb9c-feaccba8386e\")>, <selenium.webdriver.remote.webelement.WebElement (session=\"b934571c0a1a0b3b51815b4b3512fe69\", element=\"c2ae1e31-d527-4a97-82dc-07bbfbbf98e2\")>, <selenium.webdriver.remote.webelement.WebElement (session=\"b934571c0a1a0b3b51815b4b3512fe69\", element=\"10920e32-ce33-449c-bc8d-4a0660104429\")>, <selenium.webdriver.remote.webelement.WebElement (session=\"b934571c0a1a0b3b51815b4b3512fe69\", element=\"7084b6a0-206b-40a8-b826-a167d02f6dcb\")>, <selenium.webdriver.remote.webelement.WebElement (session=\"b934571c0a1a0b3b51815b4b3512fe69\", element=\"8edbaafb-ab68-40c9-a8da-d64b15661b63\")>]\n",
      "answered wrong! trying again\n",
      "0\n",
      "[<selenium.webdriver.remote.webelement.WebElement (session=\"b934571c0a1a0b3b51815b4b3512fe69\", element=\"11605214-d383-4363-bb9c-feaccba8386e\")>, <selenium.webdriver.remote.webelement.WebElement (session=\"b934571c0a1a0b3b51815b4b3512fe69\", element=\"c2ae1e31-d527-4a97-82dc-07bbfbbf98e2\")>, <selenium.webdriver.remote.webelement.WebElement (session=\"b934571c0a1a0b3b51815b4b3512fe69\", element=\"10920e32-ce33-449c-bc8d-4a0660104429\")>, <selenium.webdriver.remote.webelement.WebElement (session=\"b934571c0a1a0b3b51815b4b3512fe69\", element=\"7084b6a0-206b-40a8-b826-a167d02f6dcb\")>]\n",
      "answered wrong! trying again\n",
      "2\n",
      "[<selenium.webdriver.remote.webelement.WebElement (session=\"b934571c0a1a0b3b51815b4b3512fe69\", element=\"c2ae1e31-d527-4a97-82dc-07bbfbbf98e2\")>, <selenium.webdriver.remote.webelement.WebElement (session=\"b934571c0a1a0b3b51815b4b3512fe69\", element=\"10920e32-ce33-449c-bc8d-4a0660104429\")>, <selenium.webdriver.remote.webelement.WebElement (session=\"b934571c0a1a0b3b51815b4b3512fe69\", element=\"7084b6a0-206b-40a8-b826-a167d02f6dcb\")>]\n",
      "answered wrong! trying again\n",
      "answered correctly!\n",
      "2\n",
      "[<selenium.webdriver.remote.webelement.WebElement (session=\"b934571c0a1a0b3b51815b4b3512fe69\", element=\"63da16e9-22f6-40d3-872b-a467c68e841d\")>, <selenium.webdriver.remote.webelement.WebElement (session=\"b934571c0a1a0b3b51815b4b3512fe69\", element=\"289a4061-5627-406e-b9c8-cdc74fd1a543\")>, <selenium.webdriver.remote.webelement.WebElement (session=\"b934571c0a1a0b3b51815b4b3512fe69\", element=\"04475b6b-a4cd-478c-aa32-781b1f37ab28\")>, <selenium.webdriver.remote.webelement.WebElement (session=\"b934571c0a1a0b3b51815b4b3512fe69\", element=\"de2a6b85-aadd-4156-ad68-f2d373ac6fb4\")>, <selenium.webdriver.remote.webelement.WebElement (session=\"b934571c0a1a0b3b51815b4b3512fe69\", element=\"fe9fbabd-2cc9-4b96-88bb-76b4ac237a64\")>]\n",
      "answered wrong! trying again\n",
      "2\n",
      "[<selenium.webdriver.remote.webelement.WebElement (session=\"b934571c0a1a0b3b51815b4b3512fe69\", element=\"63da16e9-22f6-40d3-872b-a467c68e841d\")>, <selenium.webdriver.remote.webelement.WebElement (session=\"b934571c0a1a0b3b51815b4b3512fe69\", element=\"289a4061-5627-406e-b9c8-cdc74fd1a543\")>, <selenium.webdriver.remote.webelement.WebElement (session=\"b934571c0a1a0b3b51815b4b3512fe69\", element=\"de2a6b85-aadd-4156-ad68-f2d373ac6fb4\")>, <selenium.webdriver.remote.webelement.WebElement (session=\"b934571c0a1a0b3b51815b4b3512fe69\", element=\"fe9fbabd-2cc9-4b96-88bb-76b4ac237a64\")>]\n",
      "answered wrong! trying again\n",
      "2\n",
      "[<selenium.webdriver.remote.webelement.WebElement (session=\"b934571c0a1a0b3b51815b4b3512fe69\", element=\"63da16e9-22f6-40d3-872b-a467c68e841d\")>, <selenium.webdriver.remote.webelement.WebElement (session=\"b934571c0a1a0b3b51815b4b3512fe69\", element=\"289a4061-5627-406e-b9c8-cdc74fd1a543\")>, <selenium.webdriver.remote.webelement.WebElement (session=\"b934571c0a1a0b3b51815b4b3512fe69\", element=\"fe9fbabd-2cc9-4b96-88bb-76b4ac237a64\")>]\n",
      "answered wrong! trying again\n",
      "0\n",
      "[<selenium.webdriver.remote.webelement.WebElement (session=\"b934571c0a1a0b3b51815b4b3512fe69\", element=\"63da16e9-22f6-40d3-872b-a467c68e841d\")>, <selenium.webdriver.remote.webelement.WebElement (session=\"b934571c0a1a0b3b51815b4b3512fe69\", element=\"289a4061-5627-406e-b9c8-cdc74fd1a543\")>]\n",
      "answered wrong! trying again\n",
      "answered correctly!\n",
      "0\n",
      "[<selenium.webdriver.remote.webelement.WebElement (session=\"b934571c0a1a0b3b51815b4b3512fe69\", element=\"9ad57c8e-871b-44c2-b088-3aa06a26c72c\")>, <selenium.webdriver.remote.webelement.WebElement (session=\"b934571c0a1a0b3b51815b4b3512fe69\", element=\"79341916-72a5-4c01-9d79-0d79626c3784\")>, <selenium.webdriver.remote.webelement.WebElement (session=\"b934571c0a1a0b3b51815b4b3512fe69\", element=\"e9a5b976-753f-4364-95eb-90cd75862a24\")>, <selenium.webdriver.remote.webelement.WebElement (session=\"b934571c0a1a0b3b51815b4b3512fe69\", element=\"057dd375-2925-44f1-a6fa-2df7bc19455a\")>, <selenium.webdriver.remote.webelement.WebElement (session=\"b934571c0a1a0b3b51815b4b3512fe69\", element=\"0bbe253c-2ade-4cae-8ff4-65884e644fbf\")>]\n",
      "answered wrong! trying again\n",
      "0\n",
      "[<selenium.webdriver.remote.webelement.WebElement (session=\"b934571c0a1a0b3b51815b4b3512fe69\", element=\"79341916-72a5-4c01-9d79-0d79626c3784\")>, <selenium.webdriver.remote.webelement.WebElement (session=\"b934571c0a1a0b3b51815b4b3512fe69\", element=\"e9a5b976-753f-4364-95eb-90cd75862a24\")>, <selenium.webdriver.remote.webelement.WebElement (session=\"b934571c0a1a0b3b51815b4b3512fe69\", element=\"057dd375-2925-44f1-a6fa-2df7bc19455a\")>, <selenium.webdriver.remote.webelement.WebElement (session=\"b934571c0a1a0b3b51815b4b3512fe69\", element=\"0bbe253c-2ade-4cae-8ff4-65884e644fbf\")>]\n",
      "answered wrong! trying again\n",
      "answered correctly!\n",
      "0\n",
      "[<selenium.webdriver.remote.webelement.WebElement (session=\"b934571c0a1a0b3b51815b4b3512fe69\", element=\"6a0c9fda-9023-4f7e-9094-56feb53d9b52\")>, <selenium.webdriver.remote.webelement.WebElement (session=\"b934571c0a1a0b3b51815b4b3512fe69\", element=\"afcccdf0-357d-4332-bb3a-c24845feaf81\")>, <selenium.webdriver.remote.webelement.WebElement (session=\"b934571c0a1a0b3b51815b4b3512fe69\", element=\"7f8603cf-fe04-4ed3-bf1e-91032df55b77\")>, <selenium.webdriver.remote.webelement.WebElement (session=\"b934571c0a1a0b3b51815b4b3512fe69\", element=\"3f55e304-8950-41be-8ae2-3c935821ac63\")>, <selenium.webdriver.remote.webelement.WebElement (session=\"b934571c0a1a0b3b51815b4b3512fe69\", element=\"da2fab6d-8c31-404e-936b-beeb95d461e5\")>]\n",
      "answered wrong! trying again\n",
      "1\n",
      "[<selenium.webdriver.remote.webelement.WebElement (session=\"b934571c0a1a0b3b51815b4b3512fe69\", element=\"afcccdf0-357d-4332-bb3a-c24845feaf81\")>, <selenium.webdriver.remote.webelement.WebElement (session=\"b934571c0a1a0b3b51815b4b3512fe69\", element=\"7f8603cf-fe04-4ed3-bf1e-91032df55b77\")>, <selenium.webdriver.remote.webelement.WebElement (session=\"b934571c0a1a0b3b51815b4b3512fe69\", element=\"3f55e304-8950-41be-8ae2-3c935821ac63\")>, <selenium.webdriver.remote.webelement.WebElement (session=\"b934571c0a1a0b3b51815b4b3512fe69\", element=\"da2fab6d-8c31-404e-936b-beeb95d461e5\")>]\n",
      "answered wrong! trying again\n",
      "answered correctly!\n",
      "3\n",
      "[<selenium.webdriver.remote.webelement.WebElement (session=\"b934571c0a1a0b3b51815b4b3512fe69\", element=\"b355638f-2829-4270-9dcc-7a16cc432931\")>, <selenium.webdriver.remote.webelement.WebElement (session=\"b934571c0a1a0b3b51815b4b3512fe69\", element=\"b59f6275-6629-42f4-8871-8130f6f1daa0\")>, <selenium.webdriver.remote.webelement.WebElement (session=\"b934571c0a1a0b3b51815b4b3512fe69\", element=\"6cb32304-42bf-4e6a-9930-5e79ec62f10b\")>, <selenium.webdriver.remote.webelement.WebElement (session=\"b934571c0a1a0b3b51815b4b3512fe69\", element=\"e880d785-5137-4124-8ba1-9481576a3605\")>, <selenium.webdriver.remote.webelement.WebElement (session=\"b934571c0a1a0b3b51815b4b3512fe69\", element=\"3bb288ac-fdda-49fe-a24d-a0b4edd15f99\")>]\n",
      "answered wrong! trying again\n",
      "1\n",
      "[<selenium.webdriver.remote.webelement.WebElement (session=\"b934571c0a1a0b3b51815b4b3512fe69\", element=\"b355638f-2829-4270-9dcc-7a16cc432931\")>, <selenium.webdriver.remote.webelement.WebElement (session=\"b934571c0a1a0b3b51815b4b3512fe69\", element=\"b59f6275-6629-42f4-8871-8130f6f1daa0\")>, <selenium.webdriver.remote.webelement.WebElement (session=\"b934571c0a1a0b3b51815b4b3512fe69\", element=\"6cb32304-42bf-4e6a-9930-5e79ec62f10b\")>, <selenium.webdriver.remote.webelement.WebElement (session=\"b934571c0a1a0b3b51815b4b3512fe69\", element=\"3bb288ac-fdda-49fe-a24d-a0b4edd15f99\")>]\n",
      "answered wrong! trying again\n",
      "1\n",
      "[<selenium.webdriver.remote.webelement.WebElement (session=\"b934571c0a1a0b3b51815b4b3512fe69\", element=\"b355638f-2829-4270-9dcc-7a16cc432931\")>, <selenium.webdriver.remote.webelement.WebElement (session=\"b934571c0a1a0b3b51815b4b3512fe69\", element=\"6cb32304-42bf-4e6a-9930-5e79ec62f10b\")>, <selenium.webdriver.remote.webelement.WebElement (session=\"b934571c0a1a0b3b51815b4b3512fe69\", element=\"3bb288ac-fdda-49fe-a24d-a0b4edd15f99\")>]\n",
      "answered wrong! trying again\n",
      "answered correctly!\n"
     ]
    },
    {
     "ename": "ValueError",
     "evalue": "empty range for randrange() (0, 0, 0)",
     "output_type": "error",
     "traceback": [
      "\u001b[1;31m---------------------------------------------------------------------------\u001b[0m",
      "\u001b[1;31mValueError\u001b[0m                                Traceback (most recent call last)",
      "\u001b[1;32mc:\\Users\\rahul\\Desktop\\saplingTests\\sapling.ipynb Cell 11'\u001b[0m in \u001b[0;36m<cell line: 1>\u001b[1;34m()\u001b[0m\n\u001b[0;32m      <a href='vscode-notebook-cell:/c%3A/Users/rahul/Desktop/saplingTests/sapling.ipynb#ch0000016?line=1'>2</a>\u001b[0m answer_list \u001b[39m=\u001b[39m driver\u001b[39m.\u001b[39mfind_elements(By\u001b[39m.\u001b[39mCLASS_NAME, \u001b[39m\"\u001b[39m\u001b[39mmultichoice-column1\u001b[39m\u001b[39m\"\u001b[39m)\n\u001b[0;32m      <a href='vscode-notebook-cell:/c%3A/Users/rahul/Desktop/saplingTests/sapling.ipynb#ch0000016?line=3'>4</a>\u001b[0m \u001b[39mwhile\u001b[39;00m \u001b[39mTrue\u001b[39;00m:\n\u001b[1;32m----> <a href='vscode-notebook-cell:/c%3A/Users/rahul/Desktop/saplingTests/sapling.ipynb#ch0000016?line=4'>5</a>\u001b[0m     i \u001b[39m=\u001b[39m random\u001b[39m.\u001b[39;49mrandint(\u001b[39m0\u001b[39;49m, \u001b[39mlen\u001b[39;49m(answer_list)\u001b[39m-\u001b[39;49m\u001b[39m1\u001b[39;49m)\n\u001b[0;32m      <a href='vscode-notebook-cell:/c%3A/Users/rahul/Desktop/saplingTests/sapling.ipynb#ch0000016?line=5'>6</a>\u001b[0m     answer_list[i]\u001b[39m.\u001b[39mclick()\n\u001b[0;32m      <a href='vscode-notebook-cell:/c%3A/Users/rahul/Desktop/saplingTests/sapling.ipynb#ch0000016?line=6'>7</a>\u001b[0m     driver\u001b[39m.\u001b[39mfind_element(By\u001b[39m.\u001b[39mID, \u001b[39m\"\u001b[39m\u001b[39mbutton-check\u001b[39m\u001b[39m\"\u001b[39m)\u001b[39m.\u001b[39mclick()\n",
      "File \u001b[1;32m~\\AppData\\Local\\Programs\\Python\\Python310\\lib\\random.py:370\u001b[0m, in \u001b[0;36mRandom.randint\u001b[1;34m(self, a, b)\u001b[0m\n\u001b[0;32m    <a href='file:///c%3A/Users/rahul/AppData/Local/Programs/Python/Python310/lib/random.py?line=365'>366</a>\u001b[0m \u001b[39mdef\u001b[39;00m \u001b[39mrandint\u001b[39m(\u001b[39mself\u001b[39m, a, b):\n\u001b[0;32m    <a href='file:///c%3A/Users/rahul/AppData/Local/Programs/Python/Python310/lib/random.py?line=366'>367</a>\u001b[0m     \u001b[39m\"\"\"Return random integer in range [a, b], including both end points.\u001b[39;00m\n\u001b[0;32m    <a href='file:///c%3A/Users/rahul/AppData/Local/Programs/Python/Python310/lib/random.py?line=367'>368</a>\u001b[0m \u001b[39m    \"\"\"\u001b[39;00m\n\u001b[1;32m--> <a href='file:///c%3A/Users/rahul/AppData/Local/Programs/Python/Python310/lib/random.py?line=369'>370</a>\u001b[0m     \u001b[39mreturn\u001b[39;00m \u001b[39mself\u001b[39;49m\u001b[39m.\u001b[39;49mrandrange(a, b\u001b[39m+\u001b[39;49m\u001b[39m1\u001b[39;49m)\n",
      "File \u001b[1;32m~\\AppData\\Local\\Programs\\Python\\Python310\\lib\\random.py:353\u001b[0m, in \u001b[0;36mRandom.randrange\u001b[1;34m(self, start, stop, step)\u001b[0m\n\u001b[0;32m    <a href='file:///c%3A/Users/rahul/AppData/Local/Programs/Python/Python310/lib/random.py?line=350'>351</a>\u001b[0m     \u001b[39mif\u001b[39;00m width \u001b[39m>\u001b[39m \u001b[39m0\u001b[39m:\n\u001b[0;32m    <a href='file:///c%3A/Users/rahul/AppData/Local/Programs/Python/Python310/lib/random.py?line=351'>352</a>\u001b[0m         \u001b[39mreturn\u001b[39;00m istart \u001b[39m+\u001b[39m \u001b[39mself\u001b[39m\u001b[39m.\u001b[39m_randbelow(width)\n\u001b[1;32m--> <a href='file:///c%3A/Users/rahul/AppData/Local/Programs/Python/Python310/lib/random.py?line=352'>353</a>\u001b[0m     \u001b[39mraise\u001b[39;00m \u001b[39mValueError\u001b[39;00m(\u001b[39m\"\u001b[39m\u001b[39mempty range for randrange() (\u001b[39m\u001b[39m%d\u001b[39;00m\u001b[39m, \u001b[39m\u001b[39m%d\u001b[39;00m\u001b[39m, \u001b[39m\u001b[39m%d\u001b[39;00m\u001b[39m)\u001b[39m\u001b[39m\"\u001b[39m \u001b[39m%\u001b[39m (istart, istop, width))\n\u001b[0;32m    <a href='file:///c%3A/Users/rahul/AppData/Local/Programs/Python/Python310/lib/random.py?line=354'>355</a>\u001b[0m \u001b[39m# Non-unit step argument supplied.\u001b[39;00m\n\u001b[0;32m    <a href='file:///c%3A/Users/rahul/AppData/Local/Programs/Python/Python310/lib/random.py?line=355'>356</a>\u001b[0m \u001b[39mif\u001b[39;00m istep \u001b[39m>\u001b[39m \u001b[39m0\u001b[39m:\n",
      "\u001b[1;31mValueError\u001b[0m: empty range for randrange() (0, 0, 0)"
     ]
    }
   ],
   "source": [
    "while True:\n",
    "    answer_list = driver.find_elements(By.CLASS_NAME, \"multichoice-column1\")\n",
    "    print(\"new question\")\n",
    "\n",
    "    while True:\n",
    "        i = random.randint(0, len(answer_list)-1)\n",
    "        answer_list[i].click()\n",
    "        driver.find_element(By.ID, \"button-check\").click()\n",
    "\n",
    "        WebDriverWait(driver,1000).until(\n",
    "            lambda driver: driver.find_elements(By.CLASS_NAME, \"modal-button.cdl-button.primary\") or driver.find_elements(By.ID,\"feedback-title\"))\n",
    "\n",
    "        try:\n",
    "            driver.find_element(By.CLASS_NAME, \"modal-title-container\")\n",
    "            driver.find_element(By.CLASS_NAME, \"modal-button.cdl-button.primary\").click()\n",
    "            print(\"answered correctly!\")\n",
    "            break\n",
    "        except NoSuchElementException:\n",
    "            print(i)\n",
    "            print(answer_list)\n",
    "            answer_list.pop(i)\n",
    "            driver.find_element(By.ID, \"button-check\").click()\n",
    "            WebDriverWait(driver,1000).until(\n",
    "                EC.text_to_be_present_in_element((By.XPATH, \"\"\"//*[@id=\"tool-hint\"]/div/button/span[2]\"\"\"), \"Hint\"))\n",
    "            print(\"answered wrong! trying again\")"
   ]
  },
  {
   "cell_type": "code",
   "execution_count": 90,
   "metadata": {},
   "outputs": [],
   "source": [
    "import random\n",
    "answer_list = driver.find_elements(By.CLASS_NAME, \"multichoice-column1\")\n",
    "\n",
    "i = random.randint(0, len(answer_list)-1)\n",
    "answer_list[i].click()"
   ]
  },
  {
   "cell_type": "code",
   "execution_count": null,
   "metadata": {},
   "outputs": [],
   "source": [
    "driver.find_element(By.ID, \"button-check\").click()"
   ]
  },
  {
   "cell_type": "code",
   "execution_count": 109,
   "metadata": {},
   "outputs": [
    {
     "name": "stdout",
     "output_type": "stream",
     "text": [
      "answered correctly!\n"
     ]
    }
   ],
   "source": [
    "try:\n",
    "    driver.find_element(By.CLASS_NAME, \"modal-title-container\")\n",
    "    driver.find_element(By.CLASS_NAME, \"modal-button.cdl-button.primary\").click()\n",
    "    print(\"answered correctly!\")\n",
    "except NoSuchElementException:\n",
    "    print(i)\n",
    "    print(answer_list)\n",
    "    answer_list.pop(i)\n",
    "    driver.find_element(By.ID, \"button-check\").click()\n",
    "    print(\"answered wrong! trying again\")\n",
    "    "
   ]
  },
  {
   "cell_type": "code",
   "execution_count": null,
   "metadata": {},
   "outputs": [],
   "source": [
    "try:\n",
    "    while True:\n",
    "        import random\n",
    "        answer_list = driver.find_elements(By.CLASS_NAME, \"multichoice-column1\")\n",
    "\n",
    "\n",
    "        while True:\n",
    "            \n",
    "            i = random.randint(0, len(answer_list)-1)\n",
    "            answer_list[i].click()\n",
    "            \n",
    "            driver.find_element(By.ID, \"button-check\").click()\n",
    "            try:\n",
    "                driver.find_element(By.CLASS_NAME, \"modal-title-container\")\n",
    "                driver.find_element(By.CLASS_NAME, \"modal-button.cdl-button.primary\").click()\n",
    "                print(\"answered correctly!\")\n",
    "                break\n",
    "            except NoSuchElementException:\n",
    "                print(i)\n",
    "                print(answer_list)\n",
    "                answer_list.pop(i)\n",
    "                driver.find_element(By.ID, \"button-check\").click()\n",
    "                print(\"answered wrong! trying again\")\n",
    "        \n",
    "except KeyboardInterrupt:\n",
    "    print('interrupted!')\n",
    "\n",
    "\n"
   ]
  },
  {
   "cell_type": "code",
   "execution_count": 119,
   "metadata": {},
   "outputs": [],
   "source": [
    "import random\n",
    "answer_list = driver.find_elements(By.CLASS_NAME, \"multichoice-column1\")"
   ]
  },
  {
   "cell_type": "code",
   "execution_count": 121,
   "metadata": {},
   "outputs": [
    {
     "name": "stdout",
     "output_type": "stream",
     "text": [
      "answered correctly!\n"
     ]
    }
   ],
   "source": [
    "import random\n",
    "answer_list = driver.find_elements(By.CLASS_NAME, \"multichoice-column1\")\n",
    "\n",
    "i = random.randint(0, len(answer_list)-1)\n",
    "answer_list[i].click()\n",
    "driver.find_element(By.ID, \"button-check\").click()\n",
    "\n",
    "WebDriverWait(driver,1000).until(\n",
    "    lambda driver: driver.find_elements(By.CLASS_NAME, \"modal-button.cdl-button.primary\") or driver.find_elements(By.ID,\"feedback-title\"))\n",
    "\n",
    "try:\n",
    "    driver.find_element(By.CLASS_NAME, \"modal-title-container\")\n",
    "    driver.find_element(By.CLASS_NAME, \"modal-button.cdl-button.primary\").click()\n",
    "    print(\"answered correctly!\")\n",
    "except NoSuchElementException:\n",
    "    print(i)\n",
    "    print(answer_list)\n",
    "    answer_list.pop(i)\n",
    "    driver.find_element(By.ID, \"button-check\").click()\n",
    "    print(\"answered wrong! trying again\")\n",
    "\n",
    "\n"
   ]
  },
  {
   "cell_type": "markdown",
   "metadata": {},
   "source": []
  },
  {
   "cell_type": "code",
   "execution_count": null,
   "metadata": {},
   "outputs": [],
   "source": []
  },
  {
   "cell_type": "code",
   "execution_count": null,
   "metadata": {},
   "outputs": [],
   "source": []
  }
 ],
 "metadata": {
  "interpreter": {
   "hash": "1d3e762bfd9c3a6dd6c5695f738eb16948cd7fcbac9eec66b1e12976edfcee91"
  },
  "kernelspec": {
   "display_name": "Python 3.10.0 64-bit",
   "language": "python",
   "name": "python3"
  },
  "language_info": {
   "codemirror_mode": {
    "name": "ipython",
    "version": 3
   },
   "file_extension": ".py",
   "mimetype": "text/x-python",
   "name": "python",
   "nbconvert_exporter": "python",
   "pygments_lexer": "ipython3",
   "version": "3.10.0"
  },
  "orig_nbformat": 4
 },
 "nbformat": 4,
 "nbformat_minor": 2
}
